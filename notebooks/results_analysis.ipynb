{
 "cells": [
  {
   "cell_type": "code",
   "execution_count": null,
   "id": "dcb5e03d",
   "metadata": {
    "vscode": {
     "languageId": "plaintext"
    }
   },
   "outputs": [],
   "source": [
    "import pandas as pd\n",
    "import seaborn as sns\n",
    "from backend.models.evaluation import ModelEvaluator\n",
    "\n",
    "# Load results\n",
    "results = pd.read_csv('data/results/model_results.csv')\n",
    "\n",
    "# Sentiment-Topic Alignment Analysis\n",
    "sns.boxplot(x='sentiment', y='topic_coherence', data=results)\n",
    "plt.title(\"Topic Coherence by Sentiment Category\")\n",
    "plt.show()\n",
    "\n",
    "# Top Words Visualization\n",
    "topics = [...]  # Load from your model\n",
    "ModelEvaluator.visualize_topics(topics)"
   ]
  }
 ],
 "metadata": {
  "language_info": {
   "name": "python"
  }
 },
 "nbformat": 4,
 "nbformat_minor": 5
}
