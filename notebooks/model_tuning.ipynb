{
 "cells": [
  {
   "cell_type": "code",
   "execution_count": null,
   "id": "fee46c1b",
   "metadata": {
    "vscode": {
     "languageId": "plaintext"
    }
   },
   "outputs": [],
   "source": [
    "from backend.models.enhanced_lda import EnhancedLDA\n",
    "from backend.models.preprocessing import TextPreprocessor\n",
    "import pandas as pd\n",
    "\n",
    "# Load and preprocess data\n",
    "df = pd.read_csv('data/raw_reviews/sample_reviews.csv')\n",
    "preprocessor = TextPreprocessor()\n",
    "processed_docs = [preprocessor.process_text(text) for text in df['review']]\n",
    "\n",
    "# Topic Number Tuning\n",
    "coherence_scores = []\n",
    "topic_nums = range(5, 16)\n",
    "\n",
    "for num in topic_nums:\n",
    "    lda = EnhancedLDA(num_topics=num)\n",
    "    lda.fit(processed_docs)\n",
    "    coherence_scores.append(lda.coherence_score)\n",
    "    print(f\"Topics: {num}, Coherence: {lda.coherence_score:.3f}\")\n",
    "\n",
    "# Plot results\n",
    "import matplotlib.pyplot as plt\n",
    "plt.plot(topic_nums, coherence_scores)\n",
    "plt.xlabel(\"Number of Topics\")\n",
    "plt.ylabel(\"Coherence Score\")\n",
    "plt.title(\"Optimal Number of Topics\")\n",
    "plt.show()"
   ]
  }
 ],
 "metadata": {
  "language_info": {
   "name": "python"
  }
 },
 "nbformat": 4,
 "nbformat_minor": 5
}
