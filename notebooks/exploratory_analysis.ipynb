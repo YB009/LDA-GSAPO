{
 "cells": [
  {
   "cell_type": "code",
   "execution_count": null,
   "id": "c6fe6a03",
   "metadata": {
    "vscode": {
     "languageId": "plaintext"
    }
   },
   "outputs": [],
   "source": [
    "# Jupyter Notebook - Run cells individually\n",
    "import pandas as pd\n",
    "import matplotlib.pyplot as plt\n",
    "from backend.models.preprocessing import TextPreprocessor\n",
    "\n",
    "# Load sample data\n",
    "df = pd.read_csv('data/raw_reviews/sample_reviews.csv')\n",
    "print(f\"Loaded {len(df)} reviews\")\n",
    "\n",
    "# Basic EDA\n",
    "print(\"\\nReview Length Analysis:\")\n",
    "df['word_count'] = df['review'].apply(lambda x: len(str(x).split()))\n",
    "print(df['word_count'].describe())\n",
    "\n",
    "# Preprocessing demo\n",
    "preprocessor = TextPreprocessor()\n",
    "sample_text = df.iloc[0]['review']\n",
    "print(f\"\\nOriginal: {sample_text}\")\n",
    "print(f\"Processed: {preprocessor.process_text(sample_text)}\")\n",
    "\n",
    "# Visualization\n",
    "plt.figure(figsize=(10,6))\n",
    "df['word_count'].plot(kind='hist', bins=50)\n",
    "plt.title(\"Distribution of Review Lengths\")\n",
    "plt.xlabel(\"Word Count\")\n",
    "plt.show()"
   ]
  }
 ],
 "metadata": {
  "language_info": {
   "name": "python"
  }
 },
 "nbformat": 4,
 "nbformat_minor": 5
}
