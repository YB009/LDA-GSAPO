{
 "cells": [
  {
   "cell_type": "code",
   "execution_count": 2,
   "id": "c6fe6a03",
   "metadata": {
    "vscode": {
     "languageId": "plaintext"
    }
   },
   "outputs": [
    {
     "ename": "ModuleNotFoundError",
     "evalue": "No module named 'backend'",
     "output_type": "error",
     "traceback": [
      "\u001b[1;31m---------------------------------------------------------------------------\u001b[0m",
      "\u001b[1;31mModuleNotFoundError\u001b[0m                       Traceback (most recent call last)",
      "Cell \u001b[1;32mIn[2], line 4\u001b[0m\n\u001b[0;32m      2\u001b[0m \u001b[38;5;28;01mimport\u001b[39;00m \u001b[38;5;21;01mpandas\u001b[39;00m \u001b[38;5;28;01mas\u001b[39;00m \u001b[38;5;21;01mpd\u001b[39;00m\n\u001b[0;32m      3\u001b[0m \u001b[38;5;28;01mimport\u001b[39;00m \u001b[38;5;21;01mmatplotlib\u001b[39;00m\u001b[38;5;21;01m.\u001b[39;00m\u001b[38;5;21;01mpyplot\u001b[39;00m \u001b[38;5;28;01mas\u001b[39;00m \u001b[38;5;21;01mplt\u001b[39;00m\n\u001b[1;32m----> 4\u001b[0m \u001b[38;5;28;01mfrom\u001b[39;00m \u001b[38;5;21;01mbackend\u001b[39;00m\u001b[38;5;21;01m.\u001b[39;00m\u001b[38;5;21;01mmodels\u001b[39;00m\u001b[38;5;21;01m.\u001b[39;00m\u001b[38;5;21;01mpreprocessing\u001b[39;00m \u001b[38;5;28;01mimport\u001b[39;00m TextPreprocessor\n\u001b[0;32m      6\u001b[0m \u001b[38;5;66;03m# Load sample data\u001b[39;00m\n\u001b[0;32m      7\u001b[0m df \u001b[38;5;241m=\u001b[39m pd\u001b[38;5;241m.\u001b[39mread_csv(\u001b[38;5;124m'\u001b[39m\u001b[38;5;124mdata/raw_reviews/sample_reviews.csv\u001b[39m\u001b[38;5;124m'\u001b[39m)\n",
      "\u001b[1;31mModuleNotFoundError\u001b[0m: No module named 'backend'"
     ]
    }
   ],
   "source": [
    "# Jupyter Notebook - Run cells individually\n",
    "import pandas as pd\n",
    "import matplotlib.pyplot as plt\n",
    "from backend.models.preprocessing import TextPreprocessor\n",
    "\n",
    "# Load sample data\n",
    "df = pd.read_csv('data/raw_reviews/sample_reviews.csv')\n",
    "print(f\"Loaded {len(df)} reviews\")\n",
    "\n",
    "# Basic EDA\n",
    "print(\"\\nReview Length Analysis:\")\n",
    "df['word_count'] = df['review'].apply(lambda x: len(str(x).split()))\n",
    "print(df['word_count'].describe())\n",
    "\n",
    "# Preprocessing demo\n",
    "preprocessor = TextPreprocessor()\n",
    "sample_text = df.iloc[0]['review']\n",
    "print(f\"\\nOriginal: {sample_text}\")\n",
    "print(f\"Processed: {preprocessor.process_text(sample_text)}\")\n",
    "\n",
    "# Visualization\n",
    "plt.figure(figsize=(10,6))\n",
    "df['word_count'].plot(kind='hist', bins=50)\n",
    "plt.title(\"Distribution of Review Lengths\")\n",
    "plt.xlabel(\"Word Count\")\n",
    "plt.show()"
   ]
  },
  {
   "cell_type": "code",
   "execution_count": null,
   "id": "be66664d-4563-4cd8-a0d1-02aa956a3fff",
   "metadata": {},
   "outputs": [],
   "source": []
  }
 ],
 "metadata": {
  "kernelspec": {
   "display_name": "Python 3 (ipykernel)",
   "language": "python",
   "name": "python3"
  },
  "language_info": {
   "codemirror_mode": {
    "name": "ipython",
    "version": 3
   },
   "file_extension": ".py",
   "mimetype": "text/x-python",
   "name": "python",
   "nbconvert_exporter": "python",
   "pygments_lexer": "ipython3",
   "version": "3.12.3"
  }
 },
 "nbformat": 4,
 "nbformat_minor": 5
}
