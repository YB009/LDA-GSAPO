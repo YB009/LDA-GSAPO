{
 "cells": [
  {
   "cell_type": "code",
   "execution_count": null,
   "id": "ba21cba7",
   "metadata": {
    "vscode": {
     "languageId": "plaintext"
    }
   },
   "outputs": [],
   "source": [
    "import pandas as pd\n",
    "from backend.models.evaluation import ModelEvaluator\n",
    "\n",
    "# Example results DataFrame\n",
    "results_df = pd.DataFrame({\n",
    "    'topic_id': [0, 1, 2],\n",
    "    'top_words': [['service', 'support'], ['product', 'quality'], ['price', 'value']],\n",
    "    'coherence_score': [0.65, 0.72, 0.58]\n",
    "})\n",
    "\n",
    "# Save to CSV\n",
    "results_df.to_csv('data/results/model_results.csv', index=False)\n",
    "\n",
    "# Generate visualization\n",
    "fig = ModelEvaluator.visualize_topics([\n",
    "    [('service', 0.25), ('support', 0.18)],\n",
    "    [('product', 0.31), ('quality', 0.22)],\n",
    "    [('price', 0.28), ('value', 0.15)]\n",
    "])\n",
    "fig.savefig('data/results/topic_visualization.png')"
   ]
  }
 ],
 "metadata": {
  "language_info": {
   "name": "python"
  }
 },
 "nbformat": 4,
 "nbformat_minor": 5
}
