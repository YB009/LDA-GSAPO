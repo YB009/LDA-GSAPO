{
 "cells": [
  {
   "cell_type": "code",
   "execution_count": 1,
   "id": "ba21cba7",
   "metadata": {
    "vscode": {
     "languageId": "plaintext"
    }
   },
   "outputs": [
    {
     "ename": "ModuleNotFoundError",
     "evalue": "No module named 'backend'",
     "output_type": "error",
     "traceback": [
      "\u001b[1;31m---------------------------------------------------------------------------\u001b[0m",
      "\u001b[1;31mModuleNotFoundError\u001b[0m                       Traceback (most recent call last)",
      "Cell \u001b[1;32mIn[1], line 2\u001b[0m\n\u001b[0;32m      1\u001b[0m \u001b[38;5;28;01mimport\u001b[39;00m \u001b[38;5;21;01mpandas\u001b[39;00m \u001b[38;5;28;01mas\u001b[39;00m \u001b[38;5;21;01mpd\u001b[39;00m\n\u001b[1;32m----> 2\u001b[0m \u001b[38;5;28;01mfrom\u001b[39;00m \u001b[38;5;21;01mbackend\u001b[39;00m\u001b[38;5;21;01m.\u001b[39;00m\u001b[38;5;21;01mmodels\u001b[39;00m\u001b[38;5;21;01m.\u001b[39;00m\u001b[38;5;21;01mevaluation\u001b[39;00m \u001b[38;5;28;01mimport\u001b[39;00m ModelEvaluator\n\u001b[0;32m      4\u001b[0m \u001b[38;5;66;03m# Example results DataFrame\u001b[39;00m\n\u001b[0;32m      5\u001b[0m results_df \u001b[38;5;241m=\u001b[39m pd\u001b[38;5;241m.\u001b[39mDataFrame({\n\u001b[0;32m      6\u001b[0m     \u001b[38;5;124m'\u001b[39m\u001b[38;5;124mtopic_id\u001b[39m\u001b[38;5;124m'\u001b[39m: [\u001b[38;5;241m0\u001b[39m, \u001b[38;5;241m1\u001b[39m, \u001b[38;5;241m2\u001b[39m],\n\u001b[0;32m      7\u001b[0m     \u001b[38;5;124m'\u001b[39m\u001b[38;5;124mtop_words\u001b[39m\u001b[38;5;124m'\u001b[39m: [[\u001b[38;5;124m'\u001b[39m\u001b[38;5;124mservice\u001b[39m\u001b[38;5;124m'\u001b[39m, \u001b[38;5;124m'\u001b[39m\u001b[38;5;124msupport\u001b[39m\u001b[38;5;124m'\u001b[39m], [\u001b[38;5;124m'\u001b[39m\u001b[38;5;124mproduct\u001b[39m\u001b[38;5;124m'\u001b[39m, \u001b[38;5;124m'\u001b[39m\u001b[38;5;124mquality\u001b[39m\u001b[38;5;124m'\u001b[39m], [\u001b[38;5;124m'\u001b[39m\u001b[38;5;124mprice\u001b[39m\u001b[38;5;124m'\u001b[39m, \u001b[38;5;124m'\u001b[39m\u001b[38;5;124mvalue\u001b[39m\u001b[38;5;124m'\u001b[39m]],\n\u001b[0;32m      8\u001b[0m     \u001b[38;5;124m'\u001b[39m\u001b[38;5;124mcoherence_score\u001b[39m\u001b[38;5;124m'\u001b[39m: [\u001b[38;5;241m0.65\u001b[39m, \u001b[38;5;241m0.72\u001b[39m, \u001b[38;5;241m0.58\u001b[39m]\n\u001b[0;32m      9\u001b[0m })\n",
      "\u001b[1;31mModuleNotFoundError\u001b[0m: No module named 'backend'"
     ]
    }
   ],
   "source": [
    "import pandas as pd\n",
    "from backend.models.evaluation import ModelEvaluator\n",
    "\n",
    "# Example results DataFrame\n",
    "results_df = pd.DataFrame({\n",
    "    'topic_id': [0, 1, 2],\n",
    "    'top_words': [['service', 'support'], ['product', 'quality'], ['price', 'value']],\n",
    "    'coherence_score': [0.65, 0.72, 0.58]\n",
    "})\n",
    "\n",
    "# Save to CSV\n",
    "results_df.to_csv('data/results/model_results.csv', index=False)\n",
    "\n",
    "# Generate visualization\n",
    "fig = ModelEvaluator.visualize_topics([\n",
    "    [('service', 0.25), ('support', 0.18)],\n",
    "    [('product', 0.31), ('quality', 0.22)],\n",
    "    [('price', 0.28), ('value', 0.15)]\n",
    "])\n",
    "fig.savefig('data/results/topic_visualization.png')"
   ]
  },
  {
   "cell_type": "code",
   "execution_count": null,
   "id": "b5007274-ca0d-4221-8374-3a3588e40e66",
   "metadata": {},
   "outputs": [],
   "source": []
  }
 ],
 "metadata": {
  "kernelspec": {
   "display_name": "Python 3 (ipykernel)",
   "language": "python",
   "name": "python3"
  },
  "language_info": {
   "codemirror_mode": {
    "name": "ipython",
    "version": 3
   },
   "file_extension": ".py",
   "mimetype": "text/x-python",
   "name": "python",
   "nbconvert_exporter": "python",
   "pygments_lexer": "ipython3",
   "version": "3.12.3"
  }
 },
 "nbformat": 4,
 "nbformat_minor": 5
}
