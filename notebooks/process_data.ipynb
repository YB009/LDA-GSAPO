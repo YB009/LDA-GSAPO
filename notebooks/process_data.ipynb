{
 "cells": [
  {
   "cell_type": "code",
   "execution_count": null,
   "id": "20432222",
   "metadata": {
    "vscode": {
     "languageId": "plaintext"
    }
   },
   "outputs": [],
   "source": [
    "from backend.models.preprocessing import TextPreprocessor\n",
    "import pandas as pd\n",
    "\n",
    "# Load the raw data\n",
    "df = pd.read_csv('data/raw_reviews/sample_reviews.csv')\n",
    "\n",
    "# Initialize the preprocessor\n",
    "preprocessor = TextPreprocessor()\n",
    "\n",
    "# Process the text and save\n",
    "df['processed'] = df['review'].apply(preprocessor.process_text)\n",
    "df.to_csv('data/processed/cleaned_reviews.csv', index=False)\n",
    "\n",
    "print(\"Processing complete! Saved to data/processed/cleaned_reviews.csv\")"
   ]
  }
 ],
 "metadata": {
  "language_info": {
   "name": "python"
  }
 },
 "nbformat": 4,
 "nbformat_minor": 5
}
