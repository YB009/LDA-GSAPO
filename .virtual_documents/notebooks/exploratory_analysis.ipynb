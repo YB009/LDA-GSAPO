# Jupyter Notebook - Run cells individually
import pandas as pd
import matplotlib.pyplot as plt
from backend.models.preprocessing import TextPreprocessor

# Load sample data
df = pd.read_csv('data/raw_reviews/sample_reviews.csv')
print(f"Loaded {len(df)} reviews")

# Basic EDA
print("\nReview Length Analysis:")
df['word_count'] = df['review'].apply(lambda x: len(str(x).split()))
print(df['word_count'].describe())

# Preprocessing demo
preprocessor = TextPreprocessor()
sample_text = df.iloc[0]['review']
print(f"\nOriginal: {sample_text}")
print(f"Processed: {preprocessor.process_text(sample_text)}")

# Visualization
plt.figure(figsize=(10,6))
df['word_count'].plot(kind='hist', bins=50)
plt.title("Distribution of Review Lengths")
plt.xlabel("Word Count")
plt.show()



