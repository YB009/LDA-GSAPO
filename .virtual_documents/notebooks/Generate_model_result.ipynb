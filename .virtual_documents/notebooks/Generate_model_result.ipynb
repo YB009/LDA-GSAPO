import pandas as pd
from backend.models.evaluation import ModelEvaluator

# Example results DataFrame
results_df = pd.DataFrame({
    'topic_id': [0, 1, 2],
    'top_words': [['service', 'support'], ['product', 'quality'], ['price', 'value']],
    'coherence_score': [0.65, 0.72, 0.58]
})

# Save to CSV
results_df.to_csv('data/results/model_results.csv', index=False)

# Generate visualization
fig = ModelEvaluator.visualize_topics([
    [('service', 0.25), ('support', 0.18)],
    [('product', 0.31), ('quality', 0.22)],
    [('price', 0.28), ('value', 0.15)]
])
fig.savefig('data/results/topic_visualization.png')



